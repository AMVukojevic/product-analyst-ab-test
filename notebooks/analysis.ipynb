{
 "cells": [
  {
   "cell_type": "markdown",
   "id": "e5daf063fd7c5c77",
   "metadata": {},
   "source": [
    "# Cookie Cats A/B Test: Retention Analysis\n",
    "\n",
    "**Author:** Ante Mislav Vukojević\n",
    "<br>\n",
    "\n",
    "### 1. The Business Problem\n",
    "\n",
    "This is an analysis of an A/B test conducted on the mobile game Cookie Cats. The game uses 'gates' that force players to wait a certain time before progressing. The objective is to determine if moving the first gate from level 30 to level 40 has a significant impact on player retention.\n",
    "\n",
    "The core question: **Which gate placement drives better long-term player engagement?** We will analyze 1-day and 7-day retention as our key metrics."
   ]
  },
  {
   "cell_type": "markdown",
   "id": "6f0d3f6434b56a8e",
   "metadata": {},
   "source": [
    "### 2. Setup & Data Exploration\n",
    "\n",
    "First step is always to load the data and get a feel for it. Need to check for missing values, data types, and the overall structure to make sure the foundation of the analysis is solid."
   ]
  },
  {
   "cell_type": "code",
   "execution_count": null,
   "id": "5e61cb2a9e95de19",
   "metadata": {},
   "outputs": [],
   "source": [
    "import pandas as pd\n",
    "import numpy as np\n",
    "import matplotlib.pyplot as plt\n",
    "from pathlib import Path\n",
    "\n",
    "\n",
    "ROOT = Path.cwd().parent          # repo root\n",
    "DATA  = ROOT / \"data\"\n",
    "IMG   = ROOT / \"images\"\n",
    "\n",
    "df = pd.read_csv(DATA / \"cookie_cats.csv\")\n",
    "\n",
    "df.head()"
   ]
  },
  {
   "cell_type": "code",
   "execution_count": null,
   "id": "2ec0d22614d8fc9a",
   "metadata": {},
   "outputs": [],
   "source": [
    "df.info()"
   ]
  },
  {
   "cell_type": "markdown",
   "id": "9b5b2e3ce291aa15",
   "metadata": {},
   "source": [
    "**Initial Findings:**\n",
    "* The dataset contains 90,189 records.\n",
    "* There are no missing values, which is great.\n",
    "* `retention_1` and `retention_7` are boolean types, which is perfect for calculating rates."
   ]
  },
  {
   "cell_type": "markdown",
   "id": "682d9f9b89e81b1a",
   "metadata": {},
   "source": [
    "### 3. Comparing Retention Rates\n",
    "\n",
    "Let's get the first look at the results. A simple `groupby` on the test versions will show the mean retention for each group. This gives us the raw performance numbers."
   ]
  },
  {
   "cell_type": "code",
   "execution_count": null,
   "id": "ab4abdde3cdad5cf",
   "metadata": {},
   "outputs": [],
   "source": [
    "# Calculate mean retention for each version\n",
    "retention_by_version = df.groupby('version')[['retention_1', 'retention_7']].mean()\n",
    "retention_by_version"
   ]
  },
  {
   "cell_type": "markdown",
   "id": "3b30541a0c1bf3ad",
   "metadata": {},
   "source": [
    "**Analysis of Means:**\n",
    "\n",
    "On the surface, the `gate_30` version appears to perform slightly better on both metrics.\n",
    "* **1-Day Retention:** `gate_30` is higher by ~0.6%.\n",
    "* **7-Day Retention:** `gate_30` is higher by ~0.8%.\n",
    "\n",
    "The difference in 1-day retention is likely negligible from a user experience standpoint, as most players wouldn't have reached level 30 within their first day. The more telling metric should be 7-day retention, as more users would have hit the gate by then.\n",
    "\n",
    "The key question is whether this small difference is a real effect or just random noise in the data. For that, we need to check for statistical significance."
   ]
  },
  {
   "cell_type": "markdown",
   "id": "25b32b8d55e07218",
   "metadata": {},
   "source": [
    "### 4. Statistical Significance Testing\n",
    "\n",
    "To test for significance, I'll use bootstrapping. It's a robust and intuitive method that relies on computational simulation rather than traditional statistical assumptions. The process simulates running the experiment thousands of times to see how often our observed result occurs, which gives us a p-value.\n",
    "\n",
    "I'm using a vectorized NumPy implementation here because it's significantly faster than a standard Python `for` loop."
   ]
  },
  {
   "cell_type": "code",
   "execution_count": null,
   "id": "b1ef62c39e2cc90e",
   "metadata": {},
   "outputs": [],
   "source": [
    "# Store the boolean retention data for each group in NumPy arrays for efficiency\n",
    "retention_1_30 = df[df['version'] == 'gate_30']['retention_1'].values\n",
    "retention_1_40 = df[df['version'] == 'gate_40']['retention_1'].values\n",
    "retention_7_30 = df[df['version'] == 'gate_30']['retention_7'].values\n",
    "retention_7_40 = df[df['version'] == 'gate_40']['retention_7'].values\n",
    "\n",
    "# Set number of bootstrap iterations\n",
    "iterations = 10000\n",
    "\n",
    "# --- 1-Day Retention Simulation ---\n",
    "boot_1d_30 = np.random.choice(retention_1_30, size=(iterations, len(retention_1_30)), replace=True)\n",
    "boot_1d_40 = np.random.choice(retention_1_40, size=(iterations, len(retention_1_40)), replace=True)\n",
    "boot_1d_diff = boot_1d_30.mean(axis=1) - boot_1d_40.mean(axis=1)\n",
    "\n",
    "# --- 7-Day Retention Simulation ---\n",
    "boot_7d_30 = np.random.choice(retention_7_30, size=(iterations, len(retention_7_30)), replace=True)\n",
    "boot_7d_40 = np.random.choice(retention_7_40, size=(iterations, len(retention_7_40)), replace=True)\n",
    "boot_7d_diff = boot_7d_30.mean(axis=1) - boot_7d_40.mean(axis=1)\n",
    "\n",
    "# --- Calculate P-Values ---\n",
    "# The p-value is the probability that the observed difference is zero or negative\n",
    "p_value_1d = (boot_1d_diff <= 0).mean()\n",
    "p_value_7d = (boot_7d_diff <= 0).mean()\n",
    "\n",
    "print(f\"P-value for 1-day retention: {p_value_1d:.4f}\")\n",
    "print(f\"P-value for 7-day retention: {p_value_7d:.4f}\")"
   ]
  },
  {
   "cell_type": "markdown",
   "id": "7729b90995a068d7",
   "metadata": {},
   "source": [
    "**Significance Analysis:**\n",
    "\n",
    "Using a standard significance level of α = 0.05:\n",
    "* **1-Day Retention:** The p-value is significant (p < 0.05).\n",
    "* **7-Day Retention:** The p-value is highly statistically significant (p < 0.01).\n",
    "\n",
    "This confirms that the drop in retention for the `gate_40` group is a real effect and not just due to random chance. The effect is much stronger for the more important 7-day metric."
   ]
  },
  {
   "cell_type": "markdown",
   "id": "80701f0e19dcc1fc",
   "metadata": {},
   "source": [
    "### 5. Visualization\n",
    "\n",
    "A clustered bar chart is the best way to present these findings to stakeholders. It provides a clear, immediate visual comparison of the performance of the two groups across both metrics."
   ]
  },
  {
   "cell_type": "code",
   "execution_count": null,
   "id": "71d57ae18a234003",
   "metadata": {},
   "outputs": [],
   "source": [
    "# --- Data Preparation for plotting ---\n",
    "labels = ['1-Day Retention', '7-Day Retention']\n",
    "gate_30_means = retention_by_version.loc['gate_30'].values\n",
    "gate_40_means = retention_by_version.loc['gate_40'].values\n",
    "\n",
    "x = np.arange(len(labels))\n",
    "width = 0.35\n",
    "\n",
    "# --- Chart Creation ---\n",
    "plt.style.use('seaborn-v0_8-whitegrid')\n",
    "fig, ax = plt.subplots(figsize=(10, 6))\n",
    "\n",
    "rects1 = ax.bar(x - width/2, gate_30_means, width, label='Gate at Level 30')\n",
    "rects2 = ax.bar(x + width/2, gate_40_means, width, label='Gate at Level 40')\n",
    "\n",
    "ax.set_title('1-Day and 7-Day Player Retention by AB-Test Group', fontsize=16)\n",
    "ax.set_ylabel('Retention Rate', fontsize=12)\n",
    "ax.set_xticks(x)\n",
    "ax.set_xticklabels(labels, fontsize=12)\n",
    "ax.legend()\n",
    "\n",
    "ax.bar_label(rects1, padding=3, fmt='%.3f')\n",
    "ax.bar_label(rects2, padding=3, fmt='%.3f')\n",
    "\n",
    "fig.tight_layout()\n",
    "\n",
    "plt.savefig(IMG / \"retention_chart.png\", dpi=150, bbox_inches=\"tight\")\n",
    "\n",
    "plt.show()"
   ]
  },
  {
   "cell_type": "markdown",
   "id": "603264d1d2865dc0",
   "metadata": {},
   "source": [
    "### 6. Conclusion & Recommendation\n",
    "\n",
    "The analysis is clear and the results are statistically significant.\n",
    "\n",
    "Both 1-day and 7-day retention rates are negatively impacted by moving the gate from level 30 to level 40. The effect on 7-day retention is particularly strong, which is a critical metric for predicting the long-term health of the player base. A lower 7-day retention rate will almost certainly lead to lower overall player lifetime value.\n",
    "\n",
    "**Recommendation:** The company should **not** roll out the change. The gate should be kept at level 30 to maximize long-term player engagement."
   ]
  }
 ],
 "metadata": {
  "kernelspec": {
   "display_name": "Python [conda env:base] *",
   "language": "python",
   "name": "conda-base-py"
  },
  "language_info": {
   "codemirror_mode": {
    "name": "ipython",
    "version": 3
   },
   "file_extension": ".py",
   "mimetype": "text/x-python",
   "name": "python",
   "nbconvert_exporter": "python",
   "pygments_lexer": "ipython3",
   "version": "3.12.7"
  }
 },
 "nbformat": 4,
 "nbformat_minor": 5
}
