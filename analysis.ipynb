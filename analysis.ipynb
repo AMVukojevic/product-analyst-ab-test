{
 "cells": [
  {
   "metadata": {},
   "cell_type": "markdown",
   "source": [
    "# Cookie Cats A/B Test: Retention Analysis\n",
    "\n",
    "**Author:** Ante Mislav Vukojević\n",
    "<br>\n",
    "\n",
    "### 1. The Business Problem\n",
    "\n",
    "This is an analysis of an A/B test conducted on the mobile game Cookie Cats. The game uses 'gates' that force players to wait a certain time before progressing. The objective is to determine if moving the first gate from level 30 to level 40 has a significant impact on player retention.\n",
    "\n",
    "The core question: **Which gate placement drives better long-term player engagement?** We will analyze 1-day and 7-day retention as our key metrics."
   ],
   "id": "e5daf063fd7c5c77"
  },
  {
   "metadata": {},
   "cell_type": "markdown",
   "source": [
    "### 2. Setup & Data Exploration\n",
    "\n",
    "First step is always to load the data and get a feel for it. Need to check for missing values, data types, and the overall structure to make sure the foundation of the analysis is solid."
   ],
   "id": "6f0d3f6434b56a8e"
  },
  {
   "metadata": {
    "ExecuteTime": {
     "end_time": "2025-09-05T18:03:56.872553Z",
     "start_time": "2025-09-05T18:03:54.288669Z"
    }
   },
   "cell_type": "code",
   "source": [
    "# Import necessary libraries\n",
    "import pandas as pd\n",
    "import numpy as np\n",
    "import matplotlib.pyplot as plt\n",
    "\n",
    "# Load the dataset\n",
    "df = pd.read_csv('cookie_cats.csv')\n",
    "\n",
    "# Initial check\n",
    "df.head()"
   ],
   "id": "5e61cb2a9e95de19",
   "outputs": [
    {
     "data": {
      "text/plain": [
       "   userid  version  sum_gamerounds  retention_1  retention_7\n",
       "0     116  gate_30               3        False        False\n",
       "1     337  gate_30              38         True        False\n",
       "2     377  gate_40             165         True        False\n",
       "3     483  gate_40               1        False        False\n",
       "4     488  gate_40             179         True         True"
      ],
      "text/html": [
       "<div>\n",
       "<style scoped>\n",
       "    .dataframe tbody tr th:only-of-type {\n",
       "        vertical-align: middle;\n",
       "    }\n",
       "\n",
       "    .dataframe tbody tr th {\n",
       "        vertical-align: top;\n",
       "    }\n",
       "\n",
       "    .dataframe thead th {\n",
       "        text-align: right;\n",
       "    }\n",
       "</style>\n",
       "<table border=\"1\" class=\"dataframe\">\n",
       "  <thead>\n",
       "    <tr style=\"text-align: right;\">\n",
       "      <th></th>\n",
       "      <th>userid</th>\n",
       "      <th>version</th>\n",
       "      <th>sum_gamerounds</th>\n",
       "      <th>retention_1</th>\n",
       "      <th>retention_7</th>\n",
       "    </tr>\n",
       "  </thead>\n",
       "  <tbody>\n",
       "    <tr>\n",
       "      <th>0</th>\n",
       "      <td>116</td>\n",
       "      <td>gate_30</td>\n",
       "      <td>3</td>\n",
       "      <td>False</td>\n",
       "      <td>False</td>\n",
       "    </tr>\n",
       "    <tr>\n",
       "      <th>1</th>\n",
       "      <td>337</td>\n",
       "      <td>gate_30</td>\n",
       "      <td>38</td>\n",
       "      <td>True</td>\n",
       "      <td>False</td>\n",
       "    </tr>\n",
       "    <tr>\n",
       "      <th>2</th>\n",
       "      <td>377</td>\n",
       "      <td>gate_40</td>\n",
       "      <td>165</td>\n",
       "      <td>True</td>\n",
       "      <td>False</td>\n",
       "    </tr>\n",
       "    <tr>\n",
       "      <th>3</th>\n",
       "      <td>483</td>\n",
       "      <td>gate_40</td>\n",
       "      <td>1</td>\n",
       "      <td>False</td>\n",
       "      <td>False</td>\n",
       "    </tr>\n",
       "    <tr>\n",
       "      <th>4</th>\n",
       "      <td>488</td>\n",
       "      <td>gate_40</td>\n",
       "      <td>179</td>\n",
       "      <td>True</td>\n",
       "      <td>True</td>\n",
       "    </tr>\n",
       "  </tbody>\n",
       "</table>\n",
       "</div>"
      ]
     },
     "execution_count": 1,
     "metadata": {},
     "output_type": "execute_result"
    }
   ],
   "execution_count": 1
  },
  {
   "metadata": {
    "ExecuteTime": {
     "end_time": "2025-09-05T18:05:59.078979Z",
     "start_time": "2025-09-05T18:05:59.068428Z"
    }
   },
   "cell_type": "code",
   "source": [
    "# Check for missing values and data types\n",
    "df.info()"
   ],
   "id": "2ec0d22614d8fc9a",
   "outputs": [
    {
     "name": "stdout",
     "output_type": "stream",
     "text": [
      "<class 'pandas.core.frame.DataFrame'>\n",
      "RangeIndex: 90189 entries, 0 to 90188\n",
      "Data columns (total 5 columns):\n",
      " #   Column          Non-Null Count  Dtype \n",
      "---  ------          --------------  ----- \n",
      " 0   userid          90189 non-null  int64 \n",
      " 1   version         90189 non-null  object\n",
      " 2   sum_gamerounds  90189 non-null  int64 \n",
      " 3   retention_1     90189 non-null  bool  \n",
      " 4   retention_7     90189 non-null  bool  \n",
      "dtypes: bool(2), int64(2), object(1)\n",
      "memory usage: 2.2+ MB\n"
     ]
    }
   ],
   "execution_count": 2
  },
  {
   "metadata": {},
   "cell_type": "markdown",
   "source": [
    "**Initial Findings:**\n",
    "* The dataset contains 90,189 records.\n",
    "* There are no missing values, which is great.\n",
    "* `retention_1` and `retention_7` are boolean types, which is perfect for calculating rates."
   ],
   "id": "9b5b2e3ce291aa15"
  },
  {
   "metadata": {},
   "cell_type": "markdown",
   "source": [
    "### 3. Comparing Retention Rates\n",
    "\n",
    "Let's get the first look at the results. A simple `groupby` on the test versions will show the mean retention for each group. This gives us the raw performance numbers."
   ],
   "id": "682d9f9b89e81b1a"
  },
  {
   "metadata": {
    "ExecuteTime": {
     "end_time": "2025-09-05T18:10:05.000803Z",
     "start_time": "2025-09-05T18:10:04.990470Z"
    }
   },
   "cell_type": "code",
   "source": [
    "# Calculate mean retention for each version\n",
    "retention_by_version = df.groupby('version')[['retention_1', 'retention_7']].mean()\n",
    "retention_by_version"
   ],
   "id": "ab4abdde3cdad5cf",
   "outputs": [
    {
     "data": {
      "text/plain": [
       "         retention_1  retention_7\n",
       "version                          \n",
       "gate_30     0.448188     0.190201\n",
       "gate_40     0.442283     0.182000"
      ],
      "text/html": [
       "<div>\n",
       "<style scoped>\n",
       "    .dataframe tbody tr th:only-of-type {\n",
       "        vertical-align: middle;\n",
       "    }\n",
       "\n",
       "    .dataframe tbody tr th {\n",
       "        vertical-align: top;\n",
       "    }\n",
       "\n",
       "    .dataframe thead th {\n",
       "        text-align: right;\n",
       "    }\n",
       "</style>\n",
       "<table border=\"1\" class=\"dataframe\">\n",
       "  <thead>\n",
       "    <tr style=\"text-align: right;\">\n",
       "      <th></th>\n",
       "      <th>retention_1</th>\n",
       "      <th>retention_7</th>\n",
       "    </tr>\n",
       "    <tr>\n",
       "      <th>version</th>\n",
       "      <th></th>\n",
       "      <th></th>\n",
       "    </tr>\n",
       "  </thead>\n",
       "  <tbody>\n",
       "    <tr>\n",
       "      <th>gate_30</th>\n",
       "      <td>0.448188</td>\n",
       "      <td>0.190201</td>\n",
       "    </tr>\n",
       "    <tr>\n",
       "      <th>gate_40</th>\n",
       "      <td>0.442283</td>\n",
       "      <td>0.182000</td>\n",
       "    </tr>\n",
       "  </tbody>\n",
       "</table>\n",
       "</div>"
      ]
     },
     "execution_count": 3,
     "metadata": {},
     "output_type": "execute_result"
    }
   ],
   "execution_count": 3
  },
  {
   "metadata": {},
   "cell_type": "markdown",
   "source": [
    "**Analysis of Means:**\n",
    "\n",
    "On the surface, the `gate_30` version appears to perform slightly better on both metrics.\n",
    "* **1-Day Retention:** `gate_30` is higher by ~0.6%.\n",
    "* **7-Day Retention:** `gate_30` is higher by ~0.8%.\n",
    "\n",
    "The difference in 1-day retention is likely negligible from a user experience standpoint, as most players wouldn't have reached level 30 within their first day. The more telling metric should be 7-day retention, as more users would have hit the gate by then.\n",
    "\n",
    "The key question is whether this small difference is a real effect or just random noise in the data. For that, we need to check for statistical significance."
   ],
   "id": "3b30541a0c1bf3ad"
  },
  {
   "metadata": {},
   "cell_type": "markdown",
   "source": [
    "### 4. Statistical Significance Testing\n",
    "\n",
    "To test for significance, I'll use bootstrapping. It's a robust and intuitive method that relies on computational simulation rather than traditional statistical assumptions. The process simulates running the experiment thousands of times to see how often our observed result occurs, which gives us a p-value.\n",
    "\n",
    "I'm using a vectorized NumPy implementation here because it's significantly faster than a standard Python `for` loop."
   ],
   "id": "25b32b8d55e07218"
  },
  {
   "metadata": {
    "ExecuteTime": {
     "end_time": "2025-09-05T18:11:12.712080Z",
     "start_time": "2025-09-05T18:10:54.975986Z"
    }
   },
   "cell_type": "code",
   "source": [
    "# Store the boolean retention data for each group in NumPy arrays for efficiency\n",
    "retention_1_30 = df[df['version'] == 'gate_30']['retention_1'].values\n",
    "retention_1_40 = df[df['version'] == 'gate_40']['retention_1'].values\n",
    "retention_7_30 = df[df['version'] == 'gate_30']['retention_7'].values\n",
    "retention_7_40 = df[df['version'] == 'gate_40']['retention_7'].values\n",
    "\n",
    "# Set number of bootstrap iterations\n",
    "iterations = 10000\n",
    "\n",
    "# --- 1-Day Retention Simulation ---\n",
    "boot_1d_30 = np.random.choice(retention_1_30, size=(iterations, len(retention_1_30)), replace=True)\n",
    "boot_1d_40 = np.random.choice(retention_1_40, size=(iterations, len(retention_1_40)), replace=True)\n",
    "boot_1d_diff = boot_1d_30.mean(axis=1) - boot_1d_40.mean(axis=1)\n",
    "\n",
    "# --- 7-Day Retention Simulation ---\n",
    "boot_7d_30 = np.random.choice(retention_7_30, size=(iterations, len(retention_7_30)), replace=True)\n",
    "boot_7d_40 = np.random.choice(retention_7_40, size=(iterations, len(retention_7_40)), replace=True)\n",
    "boot_7d_diff = boot_7d_30.mean(axis=1) - boot_7d_40.mean(axis=1)\n",
    "\n",
    "# --- Calculate P-Values ---\n",
    "# The p-value is the probability that the observed difference is zero or negative\n",
    "p_value_1d = (boot_1d_diff <= 0).mean()\n",
    "p_value_7d = (boot_7d_diff <= 0).mean()\n",
    "\n",
    "print(f\"P-value for 1-day retention: {p_value_1d:.4f}\")\n",
    "print(f\"P-value for 7-day retention: {p_value_7d:.4f}\")"
   ],
   "id": "b1ef62c39e2cc90e",
   "outputs": [
    {
     "name": "stdout",
     "output_type": "stream",
     "text": [
      "P-value for 1-day retention: 0.0350\n",
      "P-value for 7-day retention: 0.0008\n"
     ]
    }
   ],
   "execution_count": 4
  },
  {
   "metadata": {},
   "cell_type": "markdown",
   "source": [
    "**Significance Analysis:**\n",
    "\n",
    "Using a standard significance level of α = 0.05:\n",
    "* **1-Day Retention:** The p-value is significant (p < 0.05).\n",
    "* **7-Day Retention:** The p-value is highly statistically significant (p < 0.01).\n",
    "\n",
    "This confirms that the drop in retention for the `gate_40` group is a real effect and not just due to random chance. The effect is much stronger for the more important 7-day metric."
   ],
   "id": "7729b90995a068d7"
  },
  {
   "metadata": {},
   "cell_type": "markdown",
   "source": [
    "### 5. Visualization\n",
    "\n",
    "A clustered bar chart is the best way to present these findings to stakeholders. It provides a clear, immediate visual comparison of the performance of the two groups across both metrics."
   ],
   "id": "80701f0e19dcc1fc"
  },
  {
   "metadata": {
    "ExecuteTime": {
     "end_time": "2025-09-05T18:13:36.079916Z",
     "start_time": "2025-09-05T18:13:35.811470Z"
    }
   },
   "cell_type": "code",
   "source": [
    "# --- Data Preparation for plotting ---\n",
    "labels = ['1-Day Retention', '7-Day Retention']\n",
    "gate_30_means = retention_by_version.loc['gate_30'].values\n",
    "gate_40_means = retention_by_version.loc['gate_40'].values\n",
    "\n",
    "x = np.arange(len(labels))  # the label locations\n",
    "width = 0.35  # the width of the bars\n",
    "\n",
    "# --- Chart Creation ---\n",
    "plt.style.use('seaborn-v0_8-whitegrid')\n",
    "fig, ax = plt.subplots(figsize=(10, 6))\n",
    "\n",
    "rects1 = ax.bar(x - width/2, gate_30_means, width, label='Gate at Level 30')\n",
    "rects2 = ax.bar(x + width/2, gate_40_means, width, label='Gate at Level 40')\n",
    "\n",
    "# --- Professional Touches ---\n",
    "ax.set_title('1-Day and 7-Day Player Retention by AB-Test Group', fontsize=16)\n",
    "ax.set_ylabel('Retention Rate', fontsize=12)\n",
    "ax.set_xticks(x)\n",
    "ax.set_xticklabels(labels, fontsize=12)\n",
    "ax.legend()\n",
    "\n",
    "ax.bar_label(rects1, padding=3, fmt='%.3f')\n",
    "ax.bar_label(rects2, padding=3, fmt='%.3f')\n",
    "\n",
    "fig.tight_layout()\n",
    "\n",
    "# --- Save the chart to a file ---\n",
    "plt.savefig('retention_chart.png', dpi=300)\n",
    "\n",
    "plt.show()"
   ],
   "id": "71d57ae18a234003",
   "outputs": [
    {
     "data": {
      "text/plain": [
       "<Figure size 1000x600 with 1 Axes>"
      ],
      "image/png": "[encoded data removed]"
     },
     "metadata": {},
     "output_type": "display_data"
    }
   ],
   "execution_count": 5
  },
  {
   "metadata": {},
   "cell_type": "markdown",
   "source": [
    "### 6. Conclusion & Recommendation\n",
    "\n",
    "The analysis is clear and the results are statistically significant.\n",
    "\n",
    "Both 1-day and 7-day retention rates are negatively impacted by moving the gate from level 30 to level 40. The effect on 7-day retention is particularly strong, which is a critical metric for predicting the long-term health of the player base. A lower 7-day retention rate will almost certainly lead to lower overall player lifetime value.\n",
    "\n",
    "**Recommendation:** The company should **not** roll out the change. The gate should be kept at level 30 to maximize long-term player engagement."
   ],
   "id": "603264d1d2865dc0"
  }
 ],
 "metadata": {
  "kernelspec": {
   "name": "python3",
   "language": "python",
   "display_name": "Python 3 (ipykernel)"
  }
 },
 "nbformat": 5,
 "nbformat_minor": 9
}
