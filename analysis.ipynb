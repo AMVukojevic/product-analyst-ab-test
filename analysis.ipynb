{
 "cells": [
  {
   "metadata": {
    "ExecuteTime": {
     "end_time": "2025-09-05T11:00:57.511757Z",
     "start_time": "2025-09-05T11:00:57.468606Z"
    }
   },
   "cell_type": "code",
   "source": [
    "import pandas as pd\n",
    "df = pd.read_csv('cookie_cats.csv')\n",
    "\n",
    "df.head()\n",
    "df.info()\n",
    "df.describe()\n",
    "df.groupby('version').count()\n"
   ],
   "id": "254006eaaffff139",
   "outputs": [
    {
     "name": "stdout",
     "output_type": "stream",
     "text": [
      "<class 'pandas.core.frame.DataFrame'>\n",
      "RangeIndex: 90189 entries, 0 to 90188\n",
      "Data columns (total 5 columns):\n",
      " #   Column          Non-Null Count  Dtype \n",
      "---  ------          --------------  ----- \n",
      " 0   userid          90189 non-null  int64 \n",
      " 1   version         90189 non-null  object\n",
      " 2   sum_gamerounds  90189 non-null  int64 \n",
      " 3   retention_1     90189 non-null  bool  \n",
      " 4   retention_7     90189 non-null  bool  \n",
      "dtypes: bool(2), int64(2), object(1)\n",
      "memory usage: 2.2+ MB\n"
     ]
    },
    {
     "data": {
      "text/plain": [
       "         userid  sum_gamerounds  retention_1  retention_7\n",
       "version                                                  \n",
       "gate_30   44700           44700        44700        44700\n",
       "gate_40   45489           45489        45489        45489"
      ],
      "text/html": [
       "<div>\n",
       "<style scoped>\n",
       "    .dataframe tbody tr th:only-of-type {\n",
       "        vertical-align: middle;\n",
       "    }\n",
       "\n",
       "    .dataframe tbody tr th {\n",
       "        vertical-align: top;\n",
       "    }\n",
       "\n",
       "    .dataframe thead th {\n",
       "        text-align: right;\n",
       "    }\n",
       "</style>\n",
       "<table border=\"1\" class=\"dataframe\">\n",
       "  <thead>\n",
       "    <tr style=\"text-align: right;\">\n",
       "      <th></th>\n",
       "      <th>userid</th>\n",
       "      <th>sum_gamerounds</th>\n",
       "      <th>retention_1</th>\n",
       "      <th>retention_7</th>\n",
       "    </tr>\n",
       "    <tr>\n",
       "      <th>version</th>\n",
       "      <th></th>\n",
       "      <th></th>\n",
       "      <th></th>\n",
       "      <th></th>\n",
       "    </tr>\n",
       "  </thead>\n",
       "  <tbody>\n",
       "    <tr>\n",
       "      <th>gate_30</th>\n",
       "      <td>44700</td>\n",
       "      <td>44700</td>\n",
       "      <td>44700</td>\n",
       "      <td>44700</td>\n",
       "    </tr>\n",
       "    <tr>\n",
       "      <th>gate_40</th>\n",
       "      <td>45489</td>\n",
       "      <td>45489</td>\n",
       "      <td>45489</td>\n",
       "      <td>45489</td>\n",
       "    </tr>\n",
       "  </tbody>\n",
       "</table>\n",
       "</div>"
      ]
     },
     "execution_count": 2,
     "metadata": {},
     "output_type": "execute_result"
    }
   ],
   "execution_count": 2
  },
  {
   "metadata": {
    "ExecuteTime": {
     "end_time": "2025-09-05T11:05:05.543277Z",
     "start_time": "2025-09-05T11:05:05.538403Z"
    }
   },
   "cell_type": "code",
   "source": "df.head(5)",
   "id": "391efce153263cb9",
   "outputs": [
    {
     "data": {
      "text/plain": [
       "   userid  version  sum_gamerounds  retention_1  retention_7\n",
       "0     116  gate_30               3        False        False\n",
       "1     337  gate_30              38         True        False\n",
       "2     377  gate_40             165         True        False\n",
       "3     483  gate_40               1        False        False\n",
       "4     488  gate_40             179         True         True"
      ],
      "text/html": [
       "<div>\n",
       "<style scoped>\n",
       "    .dataframe tbody tr th:only-of-type {\n",
       "        vertical-align: middle;\n",
       "    }\n",
       "\n",
       "    .dataframe tbody tr th {\n",
       "        vertical-align: top;\n",
       "    }\n",
       "\n",
       "    .dataframe thead th {\n",
       "        text-align: right;\n",
       "    }\n",
       "</style>\n",
       "<table border=\"1\" class=\"dataframe\">\n",
       "  <thead>\n",
       "    <tr style=\"text-align: right;\">\n",
       "      <th></th>\n",
       "      <th>userid</th>\n",
       "      <th>version</th>\n",
       "      <th>sum_gamerounds</th>\n",
       "      <th>retention_1</th>\n",
       "      <th>retention_7</th>\n",
       "    </tr>\n",
       "  </thead>\n",
       "  <tbody>\n",
       "    <tr>\n",
       "      <th>0</th>\n",
       "      <td>116</td>\n",
       "      <td>gate_30</td>\n",
       "      <td>3</td>\n",
       "      <td>False</td>\n",
       "      <td>False</td>\n",
       "    </tr>\n",
       "    <tr>\n",
       "      <th>1</th>\n",
       "      <td>337</td>\n",
       "      <td>gate_30</td>\n",
       "      <td>38</td>\n",
       "      <td>True</td>\n",
       "      <td>False</td>\n",
       "    </tr>\n",
       "    <tr>\n",
       "      <th>2</th>\n",
       "      <td>377</td>\n",
       "      <td>gate_40</td>\n",
       "      <td>165</td>\n",
       "      <td>True</td>\n",
       "      <td>False</td>\n",
       "    </tr>\n",
       "    <tr>\n",
       "      <th>3</th>\n",
       "      <td>483</td>\n",
       "      <td>gate_40</td>\n",
       "      <td>1</td>\n",
       "      <td>False</td>\n",
       "      <td>False</td>\n",
       "    </tr>\n",
       "    <tr>\n",
       "      <th>4</th>\n",
       "      <td>488</td>\n",
       "      <td>gate_40</td>\n",
       "      <td>179</td>\n",
       "      <td>True</td>\n",
       "      <td>True</td>\n",
       "    </tr>\n",
       "  </tbody>\n",
       "</table>\n",
       "</div>"
      ]
     },
     "execution_count": 3,
     "metadata": {},
     "output_type": "execute_result"
    }
   ],
   "execution_count": 3
  },
  {
   "metadata": {
    "ExecuteTime": {
     "end_time": "2025-09-05T11:28:04.099397Z",
     "start_time": "2025-09-05T11:28:04.093646Z"
    }
   },
   "cell_type": "code",
   "source": [
    "# Calculate the mean of the retention columns\n",
    "mean_retention = df[['retention_1', 'retention_7']].mean()\n",
    "\n",
    "print(mean_retention)"
   ],
   "id": "efc0a8b34830357a",
   "outputs": [
    {
     "name": "stdout",
     "output_type": "stream",
     "text": [
      "retention_1    0.445210\n",
      "retention_7    0.186065\n",
      "dtype: float64\n"
     ]
    }
   ],
   "execution_count": 4
  },
  {
   "metadata": {
    "ExecuteTime": {
     "end_time": "2025-09-05T11:31:31.956032Z",
     "start_time": "2025-09-05T11:31:31.948333Z"
    }
   },
   "cell_type": "code",
   "source": "gate_30_mean = df.groupby([\"version\"]).mean()",
   "id": "12e15e42708ce18d",
   "outputs": [],
   "execution_count": 5
  },
  {
   "metadata": {
    "ExecuteTime": {
     "end_time": "2025-09-05T11:31:37.475256Z",
     "start_time": "2025-09-05T11:31:37.470081Z"
    }
   },
   "cell_type": "code",
   "source": "gate_30_mean",
   "id": "90aeb56338bebb24",
   "outputs": [
    {
     "data": {
      "text/plain": [
       "               userid  sum_gamerounds  retention_1  retention_7\n",
       "version                                                        \n",
       "gate_30  4.987564e+06       52.456264     0.448188     0.190201\n",
       "gate_40  5.009073e+06       51.298776     0.442283     0.182000"
      ],
      "text/html": [
       "<div>\n",
       "<style scoped>\n",
       "    .dataframe tbody tr th:only-of-type {\n",
       "        vertical-align: middle;\n",
       "    }\n",
       "\n",
       "    .dataframe tbody tr th {\n",
       "        vertical-align: top;\n",
       "    }\n",
       "\n",
       "    .dataframe thead th {\n",
       "        text-align: right;\n",
       "    }\n",
       "</style>\n",
       "<table border=\"1\" class=\"dataframe\">\n",
       "  <thead>\n",
       "    <tr style=\"text-align: right;\">\n",
       "      <th></th>\n",
       "      <th>userid</th>\n",
       "      <th>sum_gamerounds</th>\n",
       "      <th>retention_1</th>\n",
       "      <th>retention_7</th>\n",
       "    </tr>\n",
       "    <tr>\n",
       "      <th>version</th>\n",
       "      <th></th>\n",
       "      <th></th>\n",
       "      <th></th>\n",
       "      <th></th>\n",
       "    </tr>\n",
       "  </thead>\n",
       "  <tbody>\n",
       "    <tr>\n",
       "      <th>gate_30</th>\n",
       "      <td>4.987564e+06</td>\n",
       "      <td>52.456264</td>\n",
       "      <td>0.448188</td>\n",
       "      <td>0.190201</td>\n",
       "    </tr>\n",
       "    <tr>\n",
       "      <th>gate_40</th>\n",
       "      <td>5.009073e+06</td>\n",
       "      <td>51.298776</td>\n",
       "      <td>0.442283</td>\n",
       "      <td>0.182000</td>\n",
       "    </tr>\n",
       "  </tbody>\n",
       "</table>\n",
       "</div>"
      ]
     },
     "execution_count": 6,
     "metadata": {},
     "output_type": "execute_result"
    }
   ],
   "execution_count": 6
  },
  {
   "metadata": {
    "ExecuteTime": {
     "end_time": "2025-09-05T11:53:18.716914Z",
     "start_time": "2025-09-05T11:53:01.270795Z"
    }
   },
   "cell_type": "code",
   "source": [
    "import numpy as np\n",
    "\n",
    "# --- 1-Day Retention ---\n",
    "\n",
    "# Separate the boolean retention data for each group into NumPy arrays\n",
    "retention_1_30 = df[df['version'] == 'gate_30']['retention_1'].values\n",
    "retention_1_40 = df[df['version'] == 'gate_40']['retention_1'].values\n",
    "\n",
    "# Set number of iterations\n",
    "iterations = 10000\n",
    "\n",
    "# Generate bootstrapped samples using NumPy's random.choice\n",
    "# This creates a 2D array where each row is a new \"experiment\"\n",
    "boot_1d_30 = np.random.choice(retention_1_30, size=(iterations, len(retention_1_30)), replace=True)\n",
    "boot_1d_40 = np.random.choice(retention_1_40, size=(iterations, len(retention_1_40)), replace=True)\n",
    "\n",
    "# Calculate the mean for each row (each experiment) in a single vectorized operation\n",
    "boot_1d_means_30 = boot_1d_30.mean(axis=1)\n",
    "boot_1d_means_40 = boot_1d_40.mean(axis=1)\n",
    "\n",
    "# Calculate the difference in means for all 5000 experiments\n",
    "boot_1d_diff = boot_1d_means_30 - boot_1d_means_40\n",
    "print (\"1-day Retention Difference: \", boot_1d_diff)\n",
    "\n",
    "# --- 7-Day Retention (Repeat the process) ---\n",
    "\n",
    "retention_7_30 = df[df['version'] == 'gate_30']['retention_7'].values\n",
    "retention_7_40 = df[df['version'] == 'gate_40']['retention_7'].values\n",
    "\n",
    "boot_7d_30 = np.random.choice(retention_7_30, size=(iterations, len(retention_7_30)), replace=True)\n",
    "boot_7d_40 = np.random.choice(retention_7_40, size=(iterations, len(retention_7_40)), replace=True)\n",
    "\n",
    "boot_7d_means_30 = boot_7d_30.mean(axis=1)\n",
    "boot_7d_means_40 = boot_7d_40.mean(axis=1)\n",
    "\n",
    "boot_7d_diff = boot_7d_means_30 - boot_7d_means_40\n",
    "print (\"7-day Retention Difference: \", boot_7d_diff)\n",
    "\n",
    "# --- Calculate P-Values (Same as before) ---\n",
    "\n",
    "# Calculate the probability that the difference is zero or negative\n",
    "p_value_1d = (boot_1d_diff <= 0).mean()\n",
    "p_value_7d = (boot_7d_diff <= 0).mean()\n",
    "\n",
    "print(f\"P-value for 1-day retention: {p_value_1d:.4f}\")\n",
    "print(f\"P-value for 7-day retention: {p_value_7d:.4f}\")"
   ],
   "id": "f283ea652ed753bd",
   "outputs": [
    {
     "name": "stdout",
     "output_type": "stream",
     "text": [
      "1-day Retention Difference:  [0.00816365 0.00556017 0.01061841 ... 0.00136948 0.00498626 0.00290626]\n",
      "7-day Retention Difference:  [0.01055313 0.00550226 0.00727412 ... 0.01066628 0.00922559 0.01388051]\n",
      "P-value for 1-day retention: 0.0390\n",
      "P-value for 7-day retention: 0.0004\n"
     ]
    }
   ],
   "execution_count": 8
  },
  {
   "metadata": {
    "ExecuteTime": {
     "end_time": "2025-09-05T12:01:08.756140Z",
     "start_time": "2025-09-05T12:01:07.859647Z"
    }
   },
   "cell_type": "code",
   "source": [
    "import matplotlib.pyplot as plt\n",
    "import numpy as np\n",
    "\n",
    "# --- Data Preparation ---\n",
    "# First, get the data we need from the groupby operation you already performed\n",
    "retention_by_version = df.groupby('version')[['retention_1', 'retention_7']].mean()\n",
    "\n",
    "# Define the labels for our x-axis groups\n",
    "labels = ['1-Day Retention', '7-Day Retention']\n",
    "\n",
    "# Get the mean values for each group\n",
    "gate_30_means = retention_by_version.loc['gate_30'].values\n",
    "gate_40_means = retention_by_version.loc['gate_40'].values\n",
    "\n",
    "# --- Chart Creation ---\n",
    "# Set the x-axis positions for the groups\n",
    "x = np.arange(len(labels))  # This will be [0, 1]\n",
    "\n",
    "# Set the width of each individual bar\n",
    "width = 0.35\n",
    "\n",
    "# Create the plot and the axes\n",
    "fig, ax = plt.subplots(figsize=(10, 6))\n",
    "\n",
    "# Plot the bars for the gate_30 group\n",
    "# We shift them to the left of the center position (x)\n",
    "rects1 = ax.bar(x - width/2, gate_30_means, width, label='Gate at Level 30')\n",
    "\n",
    "# Plot the bars for the gate_40 group\n",
    "# We shift them to the right of the center position (x)\n",
    "rects2 = ax.bar(x + width/2, gate_40_means, width, label='Gate at Level 40')\n",
    "\n",
    "# --- Professional Touches (Crucial for a good chart) ---\n",
    "# Add a descriptive title and labels\n",
    "ax.set_title('1-Day and 7-Day Player Retention by AB-Test Group', fontsize=16)\n",
    "ax.set_ylabel('Retention Rate', fontsize=12)\n",
    "\n",
    "# Set the x-axis tick labels to be our metric names\n",
    "ax.set_xticks(x)\n",
    "ax.set_xticklabels(labels, fontsize=12)\n",
    "\n",
    "# Add a legend to explain which bar is which\n",
    "ax.legend()\n",
    "\n",
    "# Add labels on top of the bars to show the exact values\n",
    "ax.bar_label(rects1, padding=3, fmt='%.4f')\n",
    "ax.bar_label(rects2, padding=3, fmt='%.4f')\n",
    "\n",
    "# Ensure the layout is tight\n",
    "fig.tight_layout()\n",
    "\n",
    "# Display the chart\n",
    "plt.show()"
   ],
   "id": "2f4e2d9d78189bf",
   "outputs": [
    {
     "data": {
      "text/plain": [
       "<Figure size 1000x600 with 1 Axes>"
      ],
      "image/png": "[encoded data removed]"
     },
     "metadata": {},
     "output_type": "display_data"
    }
   ],
   "execution_count": 9
  },
  {
   "metadata": {},
   "cell_type": "code",
   "outputs": [],
   "execution_count": null,
   "source": "",
   "id": "fec9cadfae1a93ed"
  }
 ],
 "metadata": {
  "kernelspec": {
   "name": "python3",
   "language": "python",
   "display_name": "Python 3 (ipykernel)"
  }
 },
 "nbformat": 5,
 "nbformat_minor": 9
}
